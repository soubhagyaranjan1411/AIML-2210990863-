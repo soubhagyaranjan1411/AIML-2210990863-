{
 "cells": [
  {
   "cell_type": "markdown",
   "id": "bf847754",
   "metadata": {},
   "source": [
    "# Panda.series.string method\n"
   ]
  },
  {
   "cell_type": "markdown",
   "id": "2c10f234",
   "metadata": {},
   "source": [
    "# convert lowercase column"
   ]
  },
  {
   "cell_type": "code",
   "execution_count": 1,
   "id": "4178ee8a",
   "metadata": {},
   "outputs": [
    {
     "name": "stdout",
     "output_type": "stream",
     "text": [
      "   Courses    Fee Duration Discount\n",
      "0    SPARK  22000   30days     1000\n",
      "1  PYSPARK  25000   50days     2300\n",
      "2   HADOOP  24000   40days     2500\n",
      "3   PANDAS  26000   60days     1400\n",
      "   Courses    Fee Duration Discount\n",
      "0    spark  22000   30days     1000\n",
      "1  pyspark  25000   50days     2300\n",
      "2   hadoop  24000   40days     2500\n",
      "3   pandas  26000   60days     1400\n"
     ]
    }
   ],
   "source": [
    "import pandas as pd\n",
    "import numpy as np\n",
    "technologies= ({\n",
    "    'Courses':[\"SPARK\",\"PYSPARK\",\"HADOOP\",\"PANDAS\"],\n",
    "    'Fee' :['22000','25000','24000','26000'],\n",
    "    'Duration':['30days','50days','40days','60days'],\n",
    "    'Discount':['1000','2300','2500','1400']\n",
    "              })\n",
    "df = pd.DataFrame(technologies)\n",
    "print(df)\n",
    "df['Courses'] = df['Courses'].str.lower()\n",
    "print(df)"
   ]
  },
  {
   "cell_type": "markdown",
   "id": "b79d0f11",
   "metadata": {},
   "source": [
    "# STRING UPPER()"
   ]
  },
  {
   "cell_type": "code",
   "execution_count": 2,
   "id": "923fe81f",
   "metadata": {},
   "outputs": [
    {
     "name": "stdout",
     "output_type": "stream",
     "text": [
      "   Courses    Fee Duration Discount\n",
      "0    SPARK  22000   30days     1000\n",
      "1  PYSPARK  25000   50days     2300\n",
      "2   HADOOP  24000   40days     2500\n",
      "3   PANDAS  26000   60days     1400\n"
     ]
    }
   ],
   "source": [
    "df['Courses'] = df['Courses'].str.upper()\n",
    "print(df)\n",
    "\n"
   ]
  },
  {
   "cell_type": "markdown",
   "id": "8f4edca5",
   "metadata": {},
   "source": [
    "# STRING length()"
   ]
  },
  {
   "cell_type": "code",
   "execution_count": 3,
   "id": "5eaeeab7",
   "metadata": {},
   "outputs": [
    {
     "name": "stdout",
     "output_type": "stream",
     "text": [
      "   Courses    Fee Duration Discount\n",
      "0        5  22000   30days     1000\n",
      "1        7  25000   50days     2300\n",
      "2        6  24000   40days     2500\n",
      "3        6  26000   60days     1400\n"
     ]
    }
   ],
   "source": [
    "df['Courses'] = df['Courses'].str.len()\n",
    "print(df)\n",
    "\n"
   ]
  },
  {
   "cell_type": "markdown",
   "id": "bcfc7869",
   "metadata": {},
   "source": [
    "# STRING strip()"
   ]
  },
  {
   "cell_type": "code",
   "execution_count": 4,
   "id": "e107e4c8",
   "metadata": {},
   "outputs": [
    {
     "name": "stdout",
     "output_type": "stream",
     "text": [
      "   Courses    Fee Duration Discount\n",
      "0    SPARK  22000   30days     1000\n",
      "1  PYSPARK  25000   50days     2300\n",
      "2   HADOOP  24000   40days     2500\n",
      "3   PANDAS  26000   60days     1400\n",
      "   Courses    Fee Duration Discount\n",
      "0    SPARK  22000   30days     1000\n",
      "1  PYSPARK  25000   50days     2300\n",
      "2   HADOOP  24000   40days     2500\n",
      "3   PANDAS  26000   60days     1400\n"
     ]
    }
   ],
   "source": [
    "import pandas as pd\n",
    "import numpy as np\n",
    "technologies= ({\n",
    "    'Courses':[\"SPARK\",\"PYSPARK\",\"HADOOP\",\"PANDAS\"],\n",
    "    'Fee' :['22000','25000','24000','26000'],\n",
    "    'Duration':['30days','50days','40days','60days'],\n",
    "    'Discount':['1000','2300','2500','1400']\n",
    "              })\n",
    "df = pd.DataFrame(technologies)\n",
    "print(df)\n",
    "df['Courses'] = df['Courses'].str.strip()\n",
    "print(df)\n"
   ]
  },
  {
   "cell_type": "markdown",
   "id": "6bdebf7a",
   "metadata": {},
   "source": [
    "# string strip"
   ]
  },
  {
   "cell_type": "code",
   "execution_count": 5,
   "id": "b12c59b8",
   "metadata": {},
   "outputs": [
    {
     "name": "stdout",
     "output_type": "stream",
     "text": [
      "   Courses    Fee Duration Discount\n",
      "0    SPARK  22000   30days     1000\n",
      "1  PYSPARK  25000   50days     2300\n",
      "2   HADOOP  24000   40days     2500\n",
      "3   PANDAS  26000   60days     1400\n"
     ]
    }
   ],
   "source": [
    "df['Courses'] = df['Courses'].str.strip()\n",
    "print(df)\n",
    "\n"
   ]
  },
  {
   "cell_type": "markdown",
   "id": "58a6acd2",
   "metadata": {},
   "source": [
    "# string split"
   ]
  },
  {
   "cell_type": "code",
   "execution_count": 6,
   "id": "3351a283",
   "metadata": {},
   "outputs": [
    {
     "name": "stdout",
     "output_type": "stream",
     "text": [
      "     Courses    Fee Duration Discount\n",
      "0    [SPARK]  22000   30days     1000\n",
      "1  [PYSPARK]  25000   50days     2300\n",
      "2   [HADOOP]  24000   40days     2500\n",
      "3   [PANDAS]  26000   60days     1400\n"
     ]
    }
   ],
   "source": [
    "df['Courses'] = df['Courses'].str.split()\n",
    "print(df)\n",
    "\n"
   ]
  },
  {
   "cell_type": "markdown",
   "id": "bef3d5d3",
   "metadata": {},
   "source": [
    "# string contains"
   ]
  },
  {
   "cell_type": "code",
   "execution_count": 7,
   "id": "bef19031",
   "metadata": {},
   "outputs": [
    {
     "name": "stdout",
     "output_type": "stream",
     "text": [
      "   Courses    Fee Duration Discount\n",
      "0      NaN  22000   30days     1000\n",
      "1      NaN  25000   50days     2300\n",
      "2      NaN  24000   40days     2500\n",
      "3      NaN  26000   60days     1400\n"
     ]
    }
   ],
   "source": [
    "df['Courses'] = df['Courses'].str.contains('PY')\n",
    "print(df)\n",
    "\n"
   ]
  },
  {
   "cell_type": "markdown",
   "id": "cbb8acbd",
   "metadata": {},
   "source": [
    "# string replace"
   ]
  },
  {
   "cell_type": "code",
   "execution_count": 15,
   "id": "810d8eec",
   "metadata": {},
   "outputs": [
    {
     "name": "stdout",
     "output_type": "stream",
     "text": [
      "\n",
      "DataFrame after replacement:\n",
      "          Courses    Fee Duration Discount  SubstringIndex\n",
      "0    PYTHON_SPARK  22000   30days     1000               0\n",
      "1  PYPYTHON_SPARK  25000   50days     2300               2\n",
      "2          HADOOP  24000   40days     2500              -1\n",
      "3          PANDAS  26000   60days     1400              -1\n"
     ]
    }
   ],
   "source": [
    "\n",
    "df['Courses'] = df['Courses'].str.replace('SPARK', 'PYTHON_SPARK')\n",
    "print(\"\\nDataFrame after replacement:\")\n",
    "print(df)\n"
   ]
  },
  {
   "cell_type": "markdown",
   "id": "50a06061",
   "metadata": {},
   "source": [
    "# string startswith "
   ]
  },
  {
   "cell_type": "code",
   "execution_count": 16,
   "id": "072f5021",
   "metadata": {},
   "outputs": [
    {
     "name": "stdout",
     "output_type": "stream",
     "text": [
      "\n",
      "DataFrame after startswith check:\n",
      "          Courses    Fee Duration Discount  SubstringIndex  StartsWith_P\n",
      "0    PYTHON_SPARK  22000   30days     1000               0          True\n",
      "1  PYPYTHON_SPARK  25000   50days     2300               2          True\n",
      "2          HADOOP  24000   40days     2500              -1         False\n",
      "3          PANDAS  26000   60days     1400              -1          True\n"
     ]
    }
   ],
   "source": [
    "\n",
    "df['StartsWith_P'] = df['Courses'].str.startswith('P')\n",
    "print(\"\\nDataFrame after startswith check:\")\n",
    "print(df)\n"
   ]
  },
  {
   "cell_type": "markdown",
   "id": "22024dd8",
   "metadata": {},
   "source": [
    "# string endswith"
   ]
  },
  {
   "cell_type": "code",
   "execution_count": 17,
   "id": "4ebd4c56",
   "metadata": {},
   "outputs": [
    {
     "name": "stdout",
     "output_type": "stream",
     "text": [
      "\n",
      "DataFrame after endswith check:\n",
      "          Courses    Fee Duration Discount  SubstringIndex  StartsWith_P  \\\n",
      "0    PYTHON_SPARK  22000   30days     1000               0          True   \n",
      "1  PYPYTHON_SPARK  25000   50days     2300               2          True   \n",
      "2          HADOOP  24000   40days     2500              -1         False   \n",
      "3          PANDAS  26000   60days     1400              -1          True   \n",
      "\n",
      "   EndsWith_ARK  \n",
      "0          True  \n",
      "1          True  \n",
      "2         False  \n",
      "3         False  \n"
     ]
    }
   ],
   "source": [
    "\n",
    "df['EndsWith_ARK'] = df['Courses'].str.endswith('ARK')\n",
    "print(\"\\nDataFrame after endswith check:\")\n",
    "print(df)\n"
   ]
  },
  {
   "cell_type": "markdown",
   "id": "87308b8e",
   "metadata": {},
   "source": [
    "# string cat"
   ]
  },
  {
   "cell_type": "code",
   "execution_count": 18,
   "id": "33b5cc8a",
   "metadata": {},
   "outputs": [
    {
     "name": "stdout",
     "output_type": "stream",
     "text": [
      "                                  Courses    Fee Duration Discount  \\\n",
      "0  PYTHON_SPARKPYPYTHON_SPARKHADOOPPANDAS  22000   30days     1000   \n",
      "1  PYTHON_SPARKPYPYTHON_SPARKHADOOPPANDAS  25000   50days     2300   \n",
      "2  PYTHON_SPARKPYPYTHON_SPARKHADOOPPANDAS  24000   40days     2500   \n",
      "3  PYTHON_SPARKPYPYTHON_SPARKHADOOPPANDAS  26000   60days     1400   \n",
      "\n",
      "   SubstringIndex  StartsWith_P  EndsWith_ARK  \n",
      "0               0          True          True  \n",
      "1               2          True          True  \n",
      "2              -1         False         False  \n",
      "3              -1          True         False  \n"
     ]
    }
   ],
   "source": [
    "df['Courses'] = df['Courses'].str.cat()\n",
    "print(df)\n"
   ]
  },
  {
   "cell_type": "markdown",
   "id": "0ea753dc",
   "metadata": {},
   "source": [
    "# string get"
   ]
  },
  {
   "cell_type": "code",
   "execution_count": 21,
   "id": "4c65f48b",
   "metadata": {},
   "outputs": [
    {
     "name": "stdout",
     "output_type": "stream",
     "text": [
      "\n",
      "DataFrame with first character:\n",
      "   Courses FirstCharacter\n",
      "0    SPARK              S\n",
      "1  PYSPARK              P\n",
      "2   HADOOP              H\n",
      "3   PANDAS              P\n"
     ]
    }
   ],
   "source": [
    "df['FirstCharacter'] = df['Courses'].str.get(0)\n",
    "print(\"\\nDataFrame with first character:\")\n",
    "print(df[['Courses', 'FirstCharacter']])\n"
   ]
  },
  {
   "cell_type": "markdown",
   "id": "1c7babc4",
   "metadata": {},
   "source": [
    "# string slice"
   ]
  },
  {
   "cell_type": "code",
   "execution_count": 23,
   "id": "c1a3e529",
   "metadata": {},
   "outputs": [
    {
     "name": "stdout",
     "output_type": "stream",
     "text": [
      "\n",
      "DataFrame with sliced course names:\n",
      "   Courses CourseSlice\n",
      "0    SPARK         SPA\n",
      "1  PYSPARK         PYS\n",
      "2   HADOOP         HAD\n",
      "3   PANDAS         PAN\n"
     ]
    }
   ],
   "source": [
    "\n",
    "df['CourseSlice'] = df['Courses'].str[:3]\n",
    "print(\"\\nDataFrame with sliced course names:\")\n",
    "print(df[['Courses', 'CourseSlice']])\n"
   ]
  },
  {
   "cell_type": "markdown",
   "id": "a48f8a03",
   "metadata": {},
   "source": [
    "# string find"
   ]
  },
  {
   "cell_type": "code",
   "execution_count": 27,
   "id": "3ec1fb90",
   "metadata": {},
   "outputs": [
    {
     "name": "stdout",
     "output_type": "stream",
     "text": [
      "\n",
      "DataFrame with substring index:\n",
      "   Courses  SubstringIndex\n",
      "0    SPARK               0\n",
      "1  PYSPARK               2\n",
      "2   HADOOP              -1\n",
      "3   PANDAS              -1\n"
     ]
    }
   ],
   "source": [
    "df['SubstringIndex'] = df['Courses'].str.find('SP')\n",
    "print(\"\\nDataFrame with substring index:\")\n",
    "print(df[['Courses', 'SubstringIndex']])\n"
   ]
  },
  {
   "cell_type": "code",
   "execution_count": null,
   "id": "a83e9a6f",
   "metadata": {},
   "outputs": [],
   "source": []
  },
  {
   "cell_type": "code",
   "execution_count": null,
   "id": "59e0a3fb",
   "metadata": {},
   "outputs": [],
   "source": []
  }
 ],
 "metadata": {
  "kernelspec": {
   "display_name": "Python 3 (ipykernel)",
   "language": "python",
   "name": "python3"
  },
  "language_info": {
   "codemirror_mode": {
    "name": "ipython",
    "version": 3
   },
   "file_extension": ".py",
   "mimetype": "text/x-python",
   "name": "python",
   "nbconvert_exporter": "python",
   "pygments_lexer": "ipython3",
   "version": "3.9.13"
  }
 },
 "nbformat": 4,
 "nbformat_minor": 5
}
